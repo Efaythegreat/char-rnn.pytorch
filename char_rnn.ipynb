{
 "cells": [
  {
   "cell_type": "markdown",
   "metadata": {},
   "source": [
    "# Training the Model"
   ]
  },
  {
   "cell_type": "code",
   "execution_count": 1,
   "metadata": {},
   "outputs": [
    {
     "name": "stdout",
     "output_type": "stream",
     "text": [
      "Training with 1 RNN layers...\n",
      "train.py shakespeare.txt --name n_layers --value 1 --n_layers 1 --save_file RNN_1_layer.pt\n",
      "Training for 2000 epochs...\n"
     ]
    },
    {
     "name": "stderr",
     "output_type": "stream",
     "text": [
      " 25%|██▌       | 500/2000 [03:26<10:32,  2.37it/s]"
     ]
    },
    {
     "name": "stdout",
     "output_type": "stream",
     "text": [
      "[3m 26s (500 25%) 1.5550]\n",
      "What he goods and,\n",
      "That with thee as mother it.\n",
      "\n",
      "SICINIUS:\n",
      "If rews the need lawgh or no himselp the an \n",
      "\n"
     ]
    },
    {
     "name": "stderr",
     "output_type": "stream",
     "text": [
      " 50%|█████     | 1000/2000 [06:54<06:52,  2.42it/s]"
     ]
    },
    {
     "name": "stdout",
     "output_type": "stream",
     "text": [
      "[6m 54s (1000 50%) 1.4888]\n",
      "When is not me his false so from the lady\n",
      "Your veir, to soul, the mother.\n",
      "\n",
      "PRINCE:\n",
      "My seett. Have shir \n",
      "\n"
     ]
    },
    {
     "name": "stderr",
     "output_type": "stream",
     "text": [
      " 75%|███████▌  | 1500/2000 [10:20<03:39,  2.28it/s]"
     ]
    },
    {
     "name": "stdout",
     "output_type": "stream",
     "text": [
      "[10m 20s (1500 75%) 1.4443]\n",
      "When? whose thou have all lap\n",
      "And the but the king fair inderest not me, I wash?\n",
      "\n",
      "NORTHUMBERLAND:\n",
      "Patt \n",
      "\n"
     ]
    },
    {
     "name": "stderr",
     "output_type": "stream",
     "text": [
      "100%|██████████| 2000/2000 [13:47<00:00,  2.42it/s]\n"
     ]
    },
    {
     "name": "stdout",
     "output_type": "stream",
     "text": [
      "[13m 47s (2000 100%) 1.4490]\n",
      "What good deals?\n",
      "\n",
      "Clown:\n",
      "I have now you restixe to my life,\n",
      "To be shall the way-dore in this.\n",
      "\n",
      "YORK:\n",
      "T \n",
      "\n",
      "Saving...\n",
      "Saved as saved_models\\RNN_1_layer.pt\n",
      "Finished training with 1 RNN layers.\n",
      "\n",
      "Training with 2 RNN layers...\n",
      "train.py shakespeare.txt --name n_layers --value 2 --n_layers 2 --save_file RNN_2_layers.pt\n",
      "Training for 2000 epochs...\n"
     ]
    },
    {
     "name": "stderr",
     "output_type": "stream",
     "text": [
      " 25%|██▌       | 500/2000 [04:53<15:08,  1.65it/s]"
     ]
    },
    {
     "name": "stdout",
     "output_type": "stream",
     "text": [
      "[4m 53s (500 25%) 1.4794]\n",
      "Who have to enteral-stend;\n",
      "For the seept like the true forth the stand,\n",
      "And say this war's ream dister \n",
      "\n"
     ]
    },
    {
     "name": "stderr",
     "output_type": "stream",
     "text": [
      " 50%|█████     | 1000/2000 [09:47<10:15,  1.63it/s]"
     ]
    },
    {
     "name": "stdout",
     "output_type": "stream",
     "text": [
      "[9m 47s (1000 50%) 1.3994]\n",
      "When I heir faring them not\n",
      "him that would you on the infering and heaven\n",
      "of brother, men together wit \n",
      "\n"
     ]
    },
    {
     "name": "stderr",
     "output_type": "stream",
     "text": [
      " 75%|███████▌  | 1500/2000 [14:41<05:02,  1.65it/s]"
     ]
    },
    {
     "name": "stdout",
     "output_type": "stream",
     "text": [
      "[14m 41s (1500 75%) 1.3757]\n",
      "Whe thought pleased her back as not.\n",
      "\n",
      "VINCENTIO:\n",
      "Verones?\n",
      "\n",
      "JULIET:\n",
      "I; my forged wather putily gods one \n",
      "\n"
     ]
    },
    {
     "name": "stderr",
     "output_type": "stream",
     "text": [
      "100%|██████████| 2000/2000 [19:35<00:00,  1.70it/s]\n"
     ]
    },
    {
     "name": "stdout",
     "output_type": "stream",
     "text": [
      "[19m 35s (2000 100%) 1.3801]\n",
      "Why rest strong.\n",
      "I meet love that tears and the prisoner as one\n",
      "And leave do here the ends attend;\n",
      "For \n",
      "\n",
      "Saving...\n",
      "Saved as saved_models\\RNN_2_layers.pt\n",
      "Finished training with 2 RNN layers.\n",
      "\n",
      "Training with 3 RNN layers...\n",
      "train.py shakespeare.txt --name n_layers --value 3 --n_layers 3 --save_file RNN_3_layers.pt\n",
      "Training for 2000 epochs...\n"
     ]
    },
    {
     "name": "stderr",
     "output_type": "stream",
     "text": [
      " 25%|██▌       | 500/2000 [06:19<19:12,  1.30it/s]"
     ]
    },
    {
     "name": "stdout",
     "output_type": "stream",
     "text": [
      "[6m 19s (500 25%) 1.5161]\n",
      "When us on Gremacular,\n",
      "Thy mes sistle of do grarence and your dost:\n",
      "Show my worshe! O, noble are, in t \n",
      "\n"
     ]
    },
    {
     "name": "stderr",
     "output_type": "stream",
     "text": [
      " 50%|█████     | 1000/2000 [12:39<12:55,  1.29it/s]"
     ]
    },
    {
     "name": "stdout",
     "output_type": "stream",
     "text": [
      "[12m 39s (1000 50%) 1.4320]\n",
      "When you have was go.\n",
      "O, I lay our drum'd of the nament.\n",
      "O than the eyesty men and revil speak,\n",
      "And al \n",
      "\n"
     ]
    },
    {
     "name": "stderr",
     "output_type": "stream",
     "text": [
      " 75%|███████▌  | 1500/2000 [18:57<06:30,  1.28it/s]"
     ]
    },
    {
     "name": "stdout",
     "output_type": "stream",
     "text": [
      "[18m 57s (1500 75%) 1.3911]\n",
      "Whet is loves the mart of such the loved the false;\n",
      "An even whom a moneys or cottate you,\n",
      "And this hat \n",
      "\n"
     ]
    },
    {
     "name": "stderr",
     "output_type": "stream",
     "text": [
      "100%|██████████| 2000/2000 [25:15<00:00,  1.32it/s]\n"
     ]
    },
    {
     "name": "stdout",
     "output_type": "stream",
     "text": [
      "[25m 15s (2000 100%) 1.3656]\n",
      "Where she's it their be loss reasons.\n",
      "\n",
      "PETRUCHIO:\n",
      "On heaven, and England's flatter, be some thought\n",
      "An \n",
      "\n",
      "Saving...\n",
      "Saved as saved_models\\RNN_3_layers.pt\n",
      "Finished training with 3 RNN layers.\n",
      "\n",
      "Training with 4 RNN layers...\n",
      "train.py shakespeare.txt --name n_layers --value 4 --n_layers 4 --save_file RNN_4_layers.pt\n",
      "Training for 2000 epochs...\n"
     ]
    },
    {
     "name": "stderr",
     "output_type": "stream",
     "text": [
      " 25%|██▌       | 500/2000 [07:43<22:10,  1.13it/s]  "
     ]
    },
    {
     "name": "stdout",
     "output_type": "stream",
     "text": [
      "[7m 43s (500 25%) 1.5714]\n",
      "Whereforce, sir, I should\n",
      "to her must this father doth my grabed of decested\n",
      "To do to your part to pre \n",
      "\n"
     ]
    },
    {
     "name": "stderr",
     "output_type": "stream",
     "text": [
      " 50%|█████     | 1000/2000 [15:10<14:35,  1.14it/s]"
     ]
    },
    {
     "name": "stdout",
     "output_type": "stream",
     "text": [
      "[15m 10s (1000 50%) 1.4266]\n",
      "What not these many part deserves to the\n",
      "sworn you knew: good his king than to gight the\n",
      "dars, to his  \n",
      "\n"
     ]
    },
    {
     "name": "stderr",
     "output_type": "stream",
     "text": [
      " 75%|███████▌  | 1500/2000 [22:29<07:38,  1.09it/s]"
     ]
    },
    {
     "name": "stdout",
     "output_type": "stream",
     "text": [
      "[22m 29s (1500 75%) 1.3811]\n",
      "Which a wings stain and will seeber proice\n",
      "The be lodging not kneed adversed the inched of\n",
      "my faithle  \n",
      "\n"
     ]
    },
    {
     "name": "stderr",
     "output_type": "stream",
     "text": [
      "100%|██████████| 2000/2000 [29:50<00:00,  1.12it/s]"
     ]
    },
    {
     "name": "stdout",
     "output_type": "stream",
     "text": [
      "[29m 50s (2000 100%) 1.3477]\n",
      "What starm'd me and cold rooks gentleman!\n",
      "Thou hath said mine wouldlysicasters and sing\n",
      "A tongue of ag \n",
      "\n",
      "Saving...\n",
      "Saved as saved_models\\RNN_4_layers.pt\n",
      "Finished training with 4 RNN layers.\n",
      "\n"
     ]
    },
    {
     "name": "stderr",
     "output_type": "stream",
     "text": [
      "\n"
     ]
    }
   ],
   "source": [
    "# $run train.py\n",
    "\n",
    "# this is a jupyter notebook cell\n",
    "# RNN layers\n",
    "\n",
    "RNN_layers = [1, 2, 3, 4]\n",
    "file_name = [\"RNN_1_layer.pt\", \"RNN_2_layers.pt\", \"RNN_3_layers.pt\", \"RNN_4_layers.pt\"]\n",
    "hyperparameter = 'n_layers'\n",
    "\n",
    "\n",
    "for i in range(len(RNN_layers)):\n",
    "    print(f\"Training with {RNN_layers[i]} RNN layers...\")\n",
    "    # Add your training code here\n",
    "    \n",
    "    command = f\"train.py shakespeare.txt --name {hyperparameter} --value {RNN_layers[i]} --n_layers {RNN_layers[i]} --save_file {file_name[i]}\"\n",
    "    print(command)\n",
    "    \n",
    "    %run {command}\n",
    "    \n",
    "    print(f\"Finished training with {RNN_layers[i]} RNN layers.\\n\")\n"
   ]
  },
  {
   "cell_type": "code",
   "execution_count": null,
   "metadata": {},
   "outputs": [],
   "source": []
  },
  {
   "cell_type": "code",
   "execution_count": 2,
   "metadata": {},
   "outputs": [
    {
     "name": "stdout",
     "output_type": "stream",
     "text": [
      "Training with hidden size 50...\n",
      "train.py shakespeare.txt --name hidden_size --value 50 --hidden_size 50 --save_file hidden_size_50.pt\n",
      "Training for 2000 epochs...\n"
     ]
    },
    {
     "name": "stderr",
     "output_type": "stream",
     "text": [
      " 25%|██▌       | 500/2000 [04:17<13:23,  1.87it/s]"
     ]
    },
    {
     "name": "stdout",
     "output_type": "stream",
     "text": [
      "[4m 17s (500 25%) 1.6732]\n",
      "Whose indect,\n",
      "And a conence adly talks, but for thee butteswer\n",
      "We bea is and the suns them I have ther \n",
      "\n"
     ]
    },
    {
     "name": "stderr",
     "output_type": "stream",
     "text": [
      " 50%|█████     | 1000/2000 [08:35<08:51,  1.88it/s]"
     ]
    },
    {
     "name": "stdout",
     "output_type": "stream",
     "text": [
      "[8m 35s (1000 50%) 1.5591]\n",
      "What this long the\n",
      "stall of the notae to upon me ones assabers,\n",
      "Nor to an your crown! what so, here ta \n",
      "\n"
     ]
    },
    {
     "name": "stderr",
     "output_type": "stream",
     "text": [
      " 75%|███████▌  | 1500/2000 [12:54<04:31,  1.84it/s]"
     ]
    },
    {
     "name": "stdout",
     "output_type": "stream",
     "text": [
      "[12m 54s (1500 75%) 1.5371]\n",
      "What not is my suffant.\n",
      "\n",
      "LUCIO:\n",
      "As the proud still mine we come.\n",
      "\n",
      "MENENIUS:\n",
      "And we come the world thee \n",
      "\n"
     ]
    },
    {
     "name": "stderr",
     "output_type": "stream",
     "text": [
      "100%|██████████| 2000/2000 [17:12<00:00,  1.94it/s]\n"
     ]
    },
    {
     "name": "stdout",
     "output_type": "stream",
     "text": [
      "[17m 12s (2000 100%) 1.5359]\n",
      "Which is so would\n",
      "He mean of your lell friends and too',\n",
      "thy lords not the weated bearing them fast\n",
      "To \n",
      "\n",
      "Saving...\n",
      "Saved as saved_models\\hidden_size_50.pt\n",
      "Finished training with hidden size 50.\n",
      "\n",
      "Training with hidden size 100...\n",
      "train.py shakespeare.txt --name hidden_size --value 100 --hidden_size 100 --save_file hidden_size_100.pt\n",
      "Training for 2000 epochs...\n"
     ]
    },
    {
     "name": "stderr",
     "output_type": "stream",
     "text": [
      " 25%|██▌       | 500/2000 [04:42<14:29,  1.72it/s]"
     ]
    },
    {
     "name": "stdout",
     "output_type": "stream",
     "text": [
      "[4m 42s (500 25%) 1.4797]\n",
      "What it, death as intempt tombly thy first,\n",
      "And to him.\n",
      "\n",
      "PETER:\n",
      "Sirrour some rought thou shall his boy \n",
      "\n"
     ]
    },
    {
     "name": "stderr",
     "output_type": "stream",
     "text": [
      " 50%|█████     | 1000/2000 [09:25<09:44,  1.71it/s]"
     ]
    },
    {
     "name": "stdout",
     "output_type": "stream",
     "text": [
      "[9m 25s (1000 50%) 1.4087]\n",
      "Whiling me\n",
      "In thine is thou cannot must in but it.\n",
      "\n",
      "RICHARD:\n",
      "\n",
      "QUEEN MARGARET:\n",
      "See the wounds with shou \n",
      "\n"
     ]
    },
    {
     "name": "stderr",
     "output_type": "stream",
     "text": [
      " 75%|███████▌  | 1500/2000 [14:08<04:55,  1.69it/s]"
     ]
    },
    {
     "name": "stdout",
     "output_type": "stream",
     "text": [
      "[14m 7s (1500 75%) 1.3938]\n",
      "Where of her! Givithing uncreason,\n",
      "I'll mbere yet they slept in her son again,\n",
      "Whow now I cannot your  \n",
      "\n"
     ]
    },
    {
     "name": "stderr",
     "output_type": "stream",
     "text": [
      "100%|██████████| 2000/2000 [18:50<00:00,  1.77it/s]\n"
     ]
    },
    {
     "name": "stdout",
     "output_type": "stream",
     "text": [
      "[18m 50s (2000 100%) 1.3666]\n",
      "Whold creep to the mark;\n",
      "Good the remedy'-dangers follow the world,\n",
      "Where where you know us towards th \n",
      "\n",
      "Saving...\n",
      "Saved as saved_models\\hidden_size_100.pt\n",
      "Finished training with hidden size 100.\n",
      "\n",
      "Training with hidden size 150...\n",
      "train.py shakespeare.txt --name hidden_size --value 150 --hidden_size 150 --save_file hidden_size_150.pt\n",
      "Training for 2000 epochs...\n"
     ]
    },
    {
     "name": "stderr",
     "output_type": "stream",
     "text": [
      " 25%|██▌       | 500/2000 [06:15<19:38,  1.27it/s]"
     ]
    },
    {
     "name": "stdout",
     "output_type": "stream",
     "text": [
      "[6m 15s (500 25%) 1.3719]\n",
      "Where, and while it stay wife:\n",
      "Therefore is hand brain, how beggar, come by thy. Help!\n",
      "\n",
      "GONZALO:\n",
      "What  \n",
      "\n"
     ]
    },
    {
     "name": "stderr",
     "output_type": "stream",
     "text": [
      " 50%|█████     | 1000/2000 [12:31<12:52,  1.29it/s]"
     ]
    },
    {
     "name": "stdout",
     "output_type": "stream",
     "text": [
      "[12m 31s (1000 50%) 1.3210]\n",
      "Where is the most pain of fire,\n",
      "I'll pare\n",
      "Every fourth here, what you have and some\n",
      "Make the laugh and \n",
      "\n"
     ]
    },
    {
     "name": "stderr",
     "output_type": "stream",
     "text": [
      " 75%|███████▌  | 1500/2000 [18:47<06:27,  1.29it/s]"
     ]
    },
    {
     "name": "stdout",
     "output_type": "stream",
     "text": [
      "[18m 47s (1500 75%) 1.3176]\n",
      "Whose issue, when I am for little thine\n",
      "Hath inclinarcians stroke, and dear night!\n",
      "\n",
      "QUEEN ELIZABETH:\n",
      "A \n",
      "\n"
     ]
    },
    {
     "name": "stderr",
     "output_type": "stream",
     "text": [
      "100%|██████████| 2000/2000 [25:03<00:00,  1.33it/s]\n"
     ]
    },
    {
     "name": "stdout",
     "output_type": "stream",
     "text": [
      "[25m 3s (2000 100%) 1.3042]\n",
      "Which they fill his majesty:\n",
      "All that I cannot a particume thee with me about love: my noble\n",
      "wearing o \n",
      "\n",
      "Saving...\n",
      "Saved as saved_models\\hidden_size_150.pt\n",
      "Finished training with hidden size 150.\n",
      "\n",
      "Training with hidden size 200...\n",
      "train.py shakespeare.txt --name hidden_size --value 200 --hidden_size 200 --save_file hidden_size_200.pt\n",
      "Training for 2000 epochs...\n"
     ]
    },
    {
     "name": "stderr",
     "output_type": "stream",
     "text": [
      " 25%|██▌       | 500/2000 [06:45<21:04,  1.19it/s]"
     ]
    },
    {
     "name": "stdout",
     "output_type": "stream",
     "text": [
      "[6m 45s (500 25%) 1.3777]\n",
      "Where then? why, sir; then lost\n",
      "the place here the sisters bowry words as how\n",
      "Have her at his judgment \n",
      "\n"
     ]
    },
    {
     "name": "stderr",
     "output_type": "stream",
     "text": [
      " 50%|█████     | 1000/2000 [13:31<13:37,  1.22it/s]"
     ]
    },
    {
     "name": "stdout",
     "output_type": "stream",
     "text": [
      "[13m 31s (1000 50%) 1.3075]\n",
      "Why shut mocking out of thyself.\n",
      "\n",
      "JULIET:\n",
      "And, what thou shalt thou deadly protestian the foe,\n",
      "A magri \n",
      "\n"
     ]
    },
    {
     "name": "stderr",
     "output_type": "stream",
     "text": [
      " 75%|███████▌  | 1500/2000 [20:17<07:00,  1.19it/s]"
     ]
    },
    {
     "name": "stdout",
     "output_type": "stream",
     "text": [
      "[20m 17s (1500 75%) 1.2925]\n",
      "Which were corderent would then?\n",
      "\n",
      "WARWICK:\n",
      "And I pray you had, but to who's this, but that anly I\n",
      "And  \n",
      "\n"
     ]
    },
    {
     "name": "stderr",
     "output_type": "stream",
     "text": [
      "100%|██████████| 2000/2000 [27:03<00:00,  1.23it/s]"
     ]
    },
    {
     "name": "stdout",
     "output_type": "stream",
     "text": [
      "[27m 3s (2000 100%) 1.3425]\n",
      "What near, to seek me to heaven fall\n",
      "Abood sufferate twell thee suffer into\n",
      "To hear with this well acc \n",
      "\n",
      "Saving...\n",
      "Saved as saved_models\\hidden_size_200.pt\n",
      "Finished training with hidden size 200.\n",
      "\n"
     ]
    },
    {
     "name": "stderr",
     "output_type": "stream",
     "text": [
      "\n"
     ]
    }
   ],
   "source": [
    "# hidden_size\n",
    "\n",
    "hidden_size = [50 , 100, 150, 200]\n",
    "file_name = [\"hidden_size_50.pt\", \"hidden_size_100.pt\", \"hidden_size_150.pt\", \"hidden_size_200.pt\"]\n",
    "hyperparameter = 'hidden_size'\n",
    "\n",
    "for i in range(len(hidden_size)):\n",
    "    print(f\"Training with hidden size {hidden_size[i]}...\")\n",
    "    # Add your training code here\n",
    "    \n",
    "    command = f\"train.py shakespeare.txt --name {hyperparameter} --value {hidden_size[i]} --hidden_size {hidden_size[i]} --save_file {file_name[i]}\"\n",
    "    print(command)\n",
    "    \n",
    "    %run {command}\n",
    "    \n",
    "    print(f\"Finished training with hidden size {hidden_size[i]}.\\n\")"
   ]
  },
  {
   "cell_type": "code",
   "execution_count": 3,
   "metadata": {},
   "outputs": [
    {
     "name": "stdout",
     "output_type": "stream",
     "text": [
      "Training with learning rate 0.005...\n",
      "train.py shakespeare.txt --name learning_rate --value 0.005 --learning_rate 0.005 --save_file learning_rate_0.005.pt\n",
      "Training for 2000 epochs...\n"
     ]
    },
    {
     "name": "stderr",
     "output_type": "stream",
     "text": [
      " 25%|██▌       | 500/2000 [04:39<14:20,  1.74it/s]"
     ]
    },
    {
     "name": "stdout",
     "output_type": "stream",
     "text": [
      "[4m 39s (500 25%) 1.4761]\n",
      "Why speak.\n",
      "\n",
      "JULIET:\n",
      "To let? Whou did wear Londay choose to\n",
      "merrance to the holies: one a very thought  \n",
      "\n"
     ]
    },
    {
     "name": "stderr",
     "output_type": "stream",
     "text": [
      " 50%|█████     | 1000/2000 [09:18<09:29,  1.76it/s]"
     ]
    },
    {
     "name": "stdout",
     "output_type": "stream",
     "text": [
      "[9m 18s (1000 50%) 1.3952]\n",
      "Why,\n",
      "Thou canst me none come deep presents of the senate\n",
      "That ready the king call the gods sake,\n",
      "Than  \n",
      "\n"
     ]
    },
    {
     "name": "stderr",
     "output_type": "stream",
     "text": [
      " 75%|███████▌  | 1500/2000 [13:57<04:52,  1.71it/s]"
     ]
    },
    {
     "name": "stdout",
     "output_type": "stream",
     "text": [
      "[13m 57s (1500 75%) 1.3457]\n",
      "When,\n",
      "Who go to summertain should that Rome\n",
      "From the heavens of blessing on: it is their screst thieve \n",
      "\n"
     ]
    },
    {
     "name": "stderr",
     "output_type": "stream",
     "text": [
      "100%|██████████| 2000/2000 [18:35<00:00,  1.79it/s]\n"
     ]
    },
    {
     "name": "stdout",
     "output_type": "stream",
     "text": [
      "[18m 35s (2000 100%) 1.3209]\n",
      "Which with my merry makes to blessed\n",
      "As he will be prayer, conspirits\n",
      "As he will not mursely to servan \n",
      "\n",
      "Saving...\n",
      "Saved as saved_models\\learning_rate_0.005.pt\n",
      "Finished training with learning rate 0.005.\n",
      "\n",
      "Training with learning rate 0.01...\n",
      "train.py shakespeare.txt --name learning_rate --value 0.01 --learning_rate 0.01 --save_file learning_rate_0.01.pt\n",
      "Training for 2000 epochs...\n"
     ]
    },
    {
     "name": "stderr",
     "output_type": "stream",
     "text": [
      " 25%|██▌       | 500/2000 [04:41<13:59,  1.79it/s]"
     ]
    },
    {
     "name": "stdout",
     "output_type": "stream",
     "text": [
      "[4m 41s (500 25%) 1.4607]\n",
      "What wed entertain sing.\n",
      "I take him to make the breath this things:\n",
      "That the grace to a hunguland,\n",
      "I s \n",
      "\n"
     ]
    },
    {
     "name": "stderr",
     "output_type": "stream",
     "text": [
      " 50%|█████     | 1000/2000 [09:22<09:38,  1.73it/s]"
     ]
    },
    {
     "name": "stdout",
     "output_type": "stream",
     "text": [
      "[9m 22s (1000 50%) 1.4098]\n",
      "Whice we moved itself, we saw me in it!\n",
      "\n",
      "VOLUMNIA:\n",
      "Let have good me and many.\n",
      "\n",
      "LUCENTIO:\n",
      "You were mour \n",
      "\n"
     ]
    },
    {
     "name": "stderr",
     "output_type": "stream",
     "text": [
      " 75%|███████▌  | 1500/2000 [14:04<04:51,  1.71it/s]"
     ]
    },
    {
     "name": "stdout",
     "output_type": "stream",
     "text": [
      "[14m 4s (1500 75%) 1.3630]\n",
      "What seen each, and she to the world\n",
      "And throak thou show to be distress,\n",
      "And secret to should fort, p \n",
      "\n"
     ]
    },
    {
     "name": "stderr",
     "output_type": "stream",
     "text": [
      "100%|██████████| 2000/2000 [18:44<00:00,  1.78it/s]\n"
     ]
    },
    {
     "name": "stdout",
     "output_type": "stream",
     "text": [
      "[18m 44s (2000 100%) 1.3575]\n",
      "What likes a other:\n",
      "How fares him as an the proclabunder?\n",
      "\n",
      "Clown:\n",
      "Say you knong the honour, and in the \n",
      "\n",
      "Saving...\n",
      "Saved as saved_models\\learning_rate_0.01.pt\n",
      "Finished training with learning rate 0.01.\n",
      "\n",
      "Training with learning rate 0.05...\n",
      "train.py shakespeare.txt --name learning_rate --value 0.05 --learning_rate 0.05 --save_file learning_rate_0.05.pt\n",
      "Training for 2000 epochs...\n"
     ]
    },
    {
     "name": "stderr",
     "output_type": "stream",
     "text": [
      " 25%|██▌       | 500/2000 [04:43<14:50,  1.68it/s]"
     ]
    },
    {
     "name": "stdout",
     "output_type": "stream",
     "text": [
      "[4m 43s (500 25%) 1.9554]\n",
      "Whome be forth chell we mes ming man thim': meath:\n",
      "That thangwight' 'to perbouter mat of love haght me \n",
      "\n"
     ]
    },
    {
     "name": "stderr",
     "output_type": "stream",
     "text": [
      " 50%|█████     | 1000/2000 [09:40<10:13,  1.63it/s]"
     ]
    },
    {
     "name": "stdout",
     "output_type": "stream",
     "text": [
      "[9m 40s (1000 50%) 1.9023]\n",
      "Whiccw:\n",
      "GLOOUSTER:\n",
      "Arn as do yas the his his thou my our ig may uart full him for seering, pralk who,  \n",
      "\n"
     ]
    },
    {
     "name": "stderr",
     "output_type": "stream",
     "text": [
      " 75%|███████▌  | 1500/2000 [14:45<05:12,  1.60it/s]"
     ]
    },
    {
     "name": "stdout",
     "output_type": "stream",
     "text": [
      "[14m 45s (1500 75%) 1.8636]\n",
      "Wharn, can, but poor and as constreck blown;\n",
      "To worppress not but thesset lady man ademker sor you big \n",
      "\n"
     ]
    },
    {
     "name": "stderr",
     "output_type": "stream",
     "text": [
      "100%|██████████| 2000/2000 [19:56<00:00,  1.67it/s]\n"
     ]
    },
    {
     "name": "stdout",
     "output_type": "stream",
     "text": [
      "[19m 56s (2000 100%) 1.9471]\n",
      "Whfas saurss to theritam rend.\n",
      "\n",
      "PRTIN:\n",
      "Ay, I haver you this this clan the wort wervers.\n",
      "\n",
      "SLMINENY:\n",
      "O t \n",
      "\n",
      "Saving...\n",
      "Saved as saved_models\\learning_rate_0.05.pt\n",
      "Finished training with learning rate 0.05.\n",
      "\n",
      "Training with learning rate 0.1...\n",
      "train.py shakespeare.txt --name learning_rate --value 0.1 --learning_rate 0.1 --save_file learning_rate_0.1.pt\n",
      "Training for 2000 epochs...\n"
     ]
    },
    {
     "name": "stderr",
     "output_type": "stream",
     "text": [
      " 25%|██▌       | 500/2000 [04:51<15:47,  1.58it/s]"
     ]
    },
    {
     "name": "stdout",
     "output_type": "stream",
     "text": [
      "[4m 51s (500 25%) 2.1924]\n",
      "Whomithealet cet Gu the to in cheus cind onel my and ace-mous thar the tith sweivent Py\n",
      "vy and this bu \n",
      "\n"
     ]
    },
    {
     "name": "stderr",
     "output_type": "stream",
     "text": [
      " 50%|█████     | 1000/2000 [10:01<10:29,  1.59it/s]"
     ]
    },
    {
     "name": "stdout",
     "output_type": "stream",
     "text": [
      "[10m 1s (1000 50%) 2.1948]\n",
      "Wharw wo thep nour ome ill to e woum ralle weosen wantenter sof,\n",
      "As ma.\n",
      "\n",
      "BBLAUSTI:\n",
      "Nark he weri he wan \n",
      "\n"
     ]
    },
    {
     "name": "stderr",
     "output_type": "stream",
     "text": [
      " 75%|███████▌  | 1500/2000 [15:15<05:13,  1.59it/s]"
     ]
    },
    {
     "name": "stdout",
     "output_type": "stream",
     "text": [
      "[15m 15s (1500 75%) 2.1080]\n",
      "Whis grer no?\n",
      "\n",
      "QUEEN MRERBENRBERIGRENBE:\n",
      "And by tat shart thrark thouy your strost. Why atth?\n",
      "\n",
      "QUEEN M \n",
      "\n"
     ]
    },
    {
     "name": "stderr",
     "output_type": "stream",
     "text": [
      "100%|██████████| 2000/2000 [20:30<00:00,  1.63it/s]"
     ]
    },
    {
     "name": "stdout",
     "output_type": "stream",
     "text": [
      "[20m 30s (2000 100%) 2.2572]\n",
      "Whacone dilu with pnho Rith fan, whad ret thound,\n",
      "Which fukigt\n",
      "Whriter prot with\n",
      "Aorith the let Gomi m \n",
      "\n",
      "Saving...\n",
      "Saved as saved_models\\learning_rate_0.1.pt\n",
      "Finished training with learning rate 0.1.\n",
      "\n"
     ]
    },
    {
     "name": "stderr",
     "output_type": "stream",
     "text": [
      "\n"
     ]
    }
   ],
   "source": [
    "# learning_rate\n",
    "\n",
    "learning_rate = [0.005, 0.01, 0.05, 0.1]\n",
    "file_name = [\"learning_rate_0.005.pt\", \"learning_rate_0.01.pt\", \"learning_rate_0.05.pt\", \"learning_rate_0.1.pt\"]\n",
    "hyperparameter = 'learning_rate'\n",
    "\n",
    "for i in range(len(learning_rate)):\n",
    "    print(f\"Training with learning rate {learning_rate[i]}...\")\n",
    "    # Add your training code here\n",
    "    \n",
    "    command = f\"train.py shakespeare.txt --name {hyperparameter} --value {learning_rate[i]} --learning_rate {learning_rate[i]} --save_file {file_name[i]}\"\n",
    "    print(command)\n",
    "    \n",
    "    %run {command}\n",
    "    \n",
    "    print(f\"Finished training with learning rate {learning_rate[i]}.\\n\")"
   ]
  },
  {
   "cell_type": "code",
   "execution_count": 4,
   "metadata": {},
   "outputs": [
    {
     "name": "stdout",
     "output_type": "stream",
     "text": [
      "Training with batch size 50...\n",
      "Training with batch size 100...\n",
      "Training with batch size 150...\n",
      "Training with batch size 200...\n"
     ]
    }
   ],
   "source": [
    "# # batch_size\n",
    "\n",
    "# batch_size = [50, 100, 150, 200]\n",
    "# file_name = [\"batch_size_50.pt\", \"batch_size_100.pt\", \"batch_size_150.pt\", \"batch_size_200.pt\"]\n",
    "# hyperparameter = 'batch_size'\n",
    "\n",
    "# for i in range(len(batch_size)):\n",
    "#     print(f\"Training with batch size {batch_size[i]}...\")\n",
    "#     # Add your training code here\n",
    "    \n",
    "#     command = f\"train.py shakespeare.txt --name {hyperparameter} --value {batch_size[i]} --batch_size {batch_size[i]} --save_file {file_name[i]}\""
   ]
  },
  {
   "cell_type": "code",
   "execution_count": 5,
   "metadata": {},
   "outputs": [
    {
     "name": "stdout",
     "output_type": "stream",
     "text": [
      "Training with chunk length 50...\n",
      "train.py shakespeare.txt --name chunk_len --value 50 --chunk_len 50 --save_file chunk_len_50.pt\n",
      "Training for 2000 epochs...\n"
     ]
    },
    {
     "name": "stderr",
     "output_type": "stream",
     "text": [
      " 25%|██▌       | 501/2000 [01:14<03:56,  6.34it/s]"
     ]
    },
    {
     "name": "stdout",
     "output_type": "stream",
     "text": [
      "[1m 14s (500 25%) 1.5876]\n",
      "Why, then it been of York?\n",
      "\n",
      "FRAGNE:\n",
      "Mady Bolings are to my good blood stops\n",
      "We man, dear of her hearts \n",
      "\n"
     ]
    },
    {
     "name": "stderr",
     "output_type": "stream",
     "text": [
      " 50%|█████     | 1001/2000 [02:29<02:40,  6.23it/s]"
     ]
    },
    {
     "name": "stdout",
     "output_type": "stream",
     "text": [
      "[2m 29s (1000 50%) 1.5353]\n",
      "Whose bodied men to desick; come\n",
      "And let deny; bound ever he is death;\n",
      "For and he was at any matged th \n",
      "\n"
     ]
    },
    {
     "name": "stderr",
     "output_type": "stream",
     "text": [
      " 75%|███████▌  | 1500/2000 [03:43<01:21,  6.12it/s]"
     ]
    },
    {
     "name": "stdout",
     "output_type": "stream",
     "text": [
      "[3m 43s (1500 75%) 1.5062]\n",
      "Which from way, in this eperuse,\n",
      "That do near you fronde the noble true struck, and king o' the crown  \n",
      "\n"
     ]
    },
    {
     "name": "stderr",
     "output_type": "stream",
     "text": [
      "100%|██████████| 2000/2000 [04:58<00:00,  6.70it/s]\n"
     ]
    },
    {
     "name": "stdout",
     "output_type": "stream",
     "text": [
      "[4m 58s (2000 100%) 1.5053]\n",
      "Whisher! O God more pretter!\n",
      "\n",
      "PETRUCHIO:\n",
      "When wilteers?\n",
      "\n",
      "LADY CAPULET:\n",
      "\n",
      "CORIOLANUS:\n",
      "There will what ha \n",
      "\n",
      "Saving...\n",
      "Saved as saved_models\\chunk_len_50.pt\n",
      "Finished training with chunk length 50.\n",
      "\n",
      "Training with chunk length 100...\n",
      "train.py shakespeare.txt --name chunk_len --value 100 --chunk_len 100 --save_file chunk_len_100.pt\n",
      "Training for 2000 epochs...\n"
     ]
    },
    {
     "name": "stderr",
     "output_type": "stream",
     "text": [
      " 25%|██▌       | 500/2000 [02:25<07:33,  3.31it/s]"
     ]
    },
    {
     "name": "stdout",
     "output_type": "stream",
     "text": [
      "[2m 25s (500 25%) 1.4962]\n",
      "Where you are any doing?\n",
      "\n",
      "ARIEP:\n",
      "Ay, maid than lune, and must let to are,\n",
      "And be be this marright our  \n",
      "\n"
     ]
    },
    {
     "name": "stderr",
     "output_type": "stream",
     "text": [
      " 50%|█████     | 1000/2000 [04:53<05:05,  3.28it/s]"
     ]
    },
    {
     "name": "stdout",
     "output_type": "stream",
     "text": [
      "[4m 53s (1000 50%) 1.4423]\n",
      "Which I will down yet stone,\n",
      "To eyess and my profes as be was thee and dion long.\n",
      "\n",
      "PEROTEN:\n",
      "Now, forge \n",
      "\n"
     ]
    },
    {
     "name": "stderr",
     "output_type": "stream",
     "text": [
      " 75%|███████▌  | 1500/2000 [07:19<02:29,  3.35it/s]"
     ]
    },
    {
     "name": "stdout",
     "output_type": "stream",
     "text": [
      "[7m 19s (1500 75%) 1.4427]\n",
      "What can I am my streak to me.\n",
      "\n",
      "ROMEO:\n",
      "The people and my queen the king.\n",
      "\n",
      "LARTIUS:\n",
      "Well, must I swear, \n",
      "\n"
     ]
    },
    {
     "name": "stderr",
     "output_type": "stream",
     "text": [
      "100%|██████████| 2000/2000 [09:46<00:00,  3.41it/s]\n"
     ]
    },
    {
     "name": "stdout",
     "output_type": "stream",
     "text": [
      "[9m 46s (2000 100%) 1.3866]\n",
      "Wher please,\n",
      "That I lieds broke of mery here.\n",
      "\n",
      "ELBOW:\n",
      "But you love the while I beside in this nature\n",
      "A \n",
      "\n",
      "Saving...\n",
      "Saved as saved_models\\chunk_len_100.pt\n",
      "Finished training with chunk length 100.\n",
      "\n",
      "Training with chunk length 200...\n",
      "train.py shakespeare.txt --name chunk_len --value 200 --chunk_len 200 --save_file chunk_len_200.pt\n",
      "Training for 2000 epochs...\n"
     ]
    },
    {
     "name": "stderr",
     "output_type": "stream",
     "text": [
      " 25%|██▌       | 500/2000 [04:42<14:20,  1.74it/s]"
     ]
    },
    {
     "name": "stdout",
     "output_type": "stream",
     "text": [
      "[4m 42s (500 25%) 1.4769]\n",
      "When a good see the place upon the age?\n",
      "\n",
      "CLARENCE:\n",
      "Bold for him grant, and now not shame than the soun \n",
      "\n"
     ]
    },
    {
     "name": "stderr",
     "output_type": "stream",
     "text": [
      " 50%|█████     | 1000/2000 [09:24<09:39,  1.72it/s]"
     ]
    },
    {
     "name": "stdout",
     "output_type": "stream",
     "text": [
      "[9m 24s (1000 50%) 1.3876]\n",
      "Where counterman? You all; and though\n",
      "me: there, with they see father friend saints,\n",
      "Which may keep of \n",
      "\n"
     ]
    },
    {
     "name": "stderr",
     "output_type": "stream",
     "text": [
      " 75%|███████▌  | 1500/2000 [14:06<04:53,  1.71it/s]"
     ]
    },
    {
     "name": "stdout",
     "output_type": "stream",
     "text": [
      "[14m 6s (1500 75%) 1.3589]\n",
      "Why raps from this other mother ensul of discord.\n",
      "\n",
      "CORIOLANUS:\n",
      "And all thy gods she is domery.\n",
      "\n",
      "Ghost, \n",
      "\n"
     ]
    },
    {
     "name": "stderr",
     "output_type": "stream",
     "text": [
      "100%|██████████| 2000/2000 [18:49<00:00,  1.77it/s]\n"
     ]
    },
    {
     "name": "stdout",
     "output_type": "stream",
     "text": [
      "[18m 48s (2000 100%) 1.3452]\n",
      "Why, which you say now she,\n",
      "Which wits we benertage will he were;\n",
      "For it peace me back I would not mys \n",
      "\n",
      "Saving...\n",
      "Saved as saved_models\\chunk_len_200.pt\n",
      "Finished training with chunk length 200.\n",
      "\n",
      "Training with chunk length 300...\n",
      "train.py shakespeare.txt --name chunk_len --value 300 --chunk_len 300 --save_file chunk_len_300.pt\n",
      "Training for 2000 epochs...\n"
     ]
    },
    {
     "name": "stderr",
     "output_type": "stream",
     "text": [
      " 25%|██▌       | 500/2000 [06:58<20:58,  1.19it/s]"
     ]
    },
    {
     "name": "stdout",
     "output_type": "stream",
     "text": [
      "[6m 58s (500 25%) 1.4234]\n",
      "What hearts forthly daughter?\n",
      "Come, hear than hold to thy cheek and son,\n",
      "That shall be it have belor;  \n",
      "\n"
     ]
    },
    {
     "name": "stderr",
     "output_type": "stream",
     "text": [
      " 50%|█████     | 1000/2000 [13:57<14:02,  1.19it/s]"
     ]
    },
    {
     "name": "stdout",
     "output_type": "stream",
     "text": [
      "[13m 57s (1000 50%) 1.3566]\n",
      "What is or dissolved in your\n",
      "that wretch happier Verolacious?\n",
      "\n",
      "ROMEO:\n",
      "Somare you were well a credience \n",
      "\n"
     ]
    },
    {
     "name": "stderr",
     "output_type": "stream",
     "text": [
      " 75%|███████▌  | 1500/2000 [20:56<07:05,  1.18it/s]"
     ]
    },
    {
     "name": "stdout",
     "output_type": "stream",
     "text": [
      "[20m 56s (1500 75%) 1.3237]\n",
      "What will not not dries in our house.\n",
      "I am be brought on the preserve,\n",
      "And long upon him but effect sh \n",
      "\n"
     ]
    },
    {
     "name": "stderr",
     "output_type": "stream",
     "text": [
      "100%|██████████| 2000/2000 [27:54<00:00,  1.19it/s]"
     ]
    },
    {
     "name": "stdout",
     "output_type": "stream",
     "text": [
      "[27m 54s (2000 100%) 1.3249]\n",
      "Which then, power than I readay:\n",
      "He will there is the storm about hardle look.\n",
      "\n",
      "CAPULET:\n",
      "Why, so well  \n",
      "\n",
      "Saving...\n",
      "Saved as saved_models\\chunk_len_300.pt\n",
      "Finished training with chunk length 300.\n",
      "\n"
     ]
    },
    {
     "name": "stderr",
     "output_type": "stream",
     "text": [
      "\n"
     ]
    }
   ],
   "source": [
    "# chunk_len\n",
    "\n",
    "chunk_len = [50, 100, 200, 300]\n",
    "file_name = [\"chunk_len_50.pt\", \"chunk_len_100.pt\", \"chunk_len_200.pt\", \"chunk_len_300.pt\"]\n",
    "hyperparameter = 'chunk_len'\n",
    "\n",
    "for i in range(len(chunk_len)):\n",
    "    print(f\"Training with chunk length {chunk_len[i]}...\")\n",
    "    # Add your training code here\n",
    "    \n",
    "    command = f\"train.py shakespeare.txt --name {hyperparameter} --value {chunk_len[i]} --chunk_len {chunk_len[i]} --save_file {file_name[i]}\"\n",
    "    print(command)\n",
    "    \n",
    "    %run {command}\n",
    "    \n",
    "    print(f\"Finished training with chunk length {chunk_len[i]}.\\n\")"
   ]
  },
  {
   "cell_type": "markdown",
   "metadata": {},
   "source": [
    "##### print graph old"
   ]
  },
  {
   "cell_type": "code",
   "execution_count": 7,
   "metadata": {},
   "outputs": [
    {
     "data": {
      "text/plain": [
       "<matplotlib.legend.Legend at 0x1c78222ea90>"
      ]
     },
     "execution_count": 7,
     "metadata": {},
     "output_type": "execute_result"
    },
    {
     "data": {
      "image/png": "[encoded data removed]",
      "text/plain": [
       "<Figure size 640x480 with 1 Axes>"
      ]
     },
     "metadata": {},
     "output_type": "display_data"
    }
   ],
   "source": [
    "# plot default_loss.png\n",
    "import matplotlib.pyplot as plt\n",
    "import matplotlib.image as mpimg\n",
    "import pandas as pd\n",
    "\n",
    "# Load the data from the text file\n",
    "# path = 'default_loss.png'\n",
    "# img = mpimg.imread(path)\n",
    "# plt.imshow(img)\n",
    "# plt.axis('off')  # Hide the axes\n",
    "# plt.show()\n",
    "\n",
    "default_loss = pd.read_csv(\"default_loss.csv\")\n",
    "bigger_chunk = pd.read_csv(\"default_loss_bigger_chunk.csv\")\n",
    "\n",
    "# Apply a moving average to smooth the loss curve\n",
    "def moving_average(data, window_size=10):\n",
    "    return data.rolling(window=window_size, min_periods=1).mean()\n",
    "\n",
    "# Smooth loss curves\n",
    "default_loss[\"smoothed\"] = moving_average(default_loss[\"loss\"], window_size=10)\n",
    "bigger_chunk[\"smoothed\"] = moving_average(bigger_chunk[\"loss\"], window_size=10)\n",
    "\n",
    "# Plot smoothed loss curves\n",
    "plt.plot(default_loss[\"epoch\"], default_loss[\"smoothed\"], label=\"200 Chunk (Default)\", linewidth=1)\n",
    "plt.plot(bigger_chunk[\"epoch\"], bigger_chunk[\"smoothed\"], label=\"300 Chunk\", linewidth=1)\n",
    "\n",
    "# Labels and Title\n",
    "plt.xlabel(\"Epoch\")\n",
    "plt.ylabel(\"Smoothed Loss\")\n",
    "plt.title(\"Smoothed Loss Comparison: Default vs Bigger Chunk\")\n",
    "plt.legend()\n"
   ]
  },
  {
   "cell_type": "code",
   "execution_count": null,
   "metadata": {},
   "outputs": [],
   "source": []
  },
  {
   "cell_type": "markdown",
   "metadata": {},
   "source": [
    "### new graph"
   ]
  },
  {
   "cell_type": "code",
   "execution_count": 20,
   "metadata": {},
   "outputs": [
    {
     "data": {
      "text/html": [
       "<div>\n",
       "<style scoped>\n",
       "    .dataframe tbody tr th:only-of-type {\n",
       "        vertical-align: middle;\n",
       "    }\n",
       "\n",
       "    .dataframe tbody tr th {\n",
       "        vertical-align: top;\n",
       "    }\n",
       "\n",
       "    .dataframe thead th {\n",
       "        text-align: right;\n",
       "    }\n",
       "</style>\n",
       "<table border=\"1\" class=\"dataframe\">\n",
       "  <thead>\n",
       "    <tr style=\"text-align: right;\">\n",
       "      <th></th>\n",
       "      <th>hidden_size</th>\n",
       "      <th>n_layers</th>\n",
       "      <th>chunk_len</th>\n",
       "      <th>batch_size</th>\n",
       "      <th>learning_rate</th>\n",
       "      <th>total_time</th>\n",
       "    </tr>\n",
       "  </thead>\n",
       "  <tbody>\n",
       "    <tr>\n",
       "      <th>0</th>\n",
       "      <td>100</td>\n",
       "      <td>1</td>\n",
       "      <td>200</td>\n",
       "      <td>100</td>\n",
       "      <td>0.01</td>\n",
       "      <td>13.794756</td>\n",
       "    </tr>\n",
       "    <tr>\n",
       "      <th>1</th>\n",
       "      <td>100</td>\n",
       "      <td>2</td>\n",
       "      <td>200</td>\n",
       "      <td>100</td>\n",
       "      <td>0.01</td>\n",
       "      <td>19.587149</td>\n",
       "    </tr>\n",
       "    <tr>\n",
       "      <th>2</th>\n",
       "      <td>100</td>\n",
       "      <td>3</td>\n",
       "      <td>200</td>\n",
       "      <td>100</td>\n",
       "      <td>0.01</td>\n",
       "      <td>25.266205</td>\n",
       "    </tr>\n",
       "    <tr>\n",
       "      <th>3</th>\n",
       "      <td>100</td>\n",
       "      <td>4</td>\n",
       "      <td>200</td>\n",
       "      <td>100</td>\n",
       "      <td>0.01</td>\n",
       "      <td>29.848044</td>\n",
       "    </tr>\n",
       "    <tr>\n",
       "      <th>4</th>\n",
       "      <td>50</td>\n",
       "      <td>2</td>\n",
       "      <td>200</td>\n",
       "      <td>100</td>\n",
       "      <td>0.01</td>\n",
       "      <td>17.202240</td>\n",
       "    </tr>\n",
       "  </tbody>\n",
       "</table>\n",
       "</div>"
      ],
      "text/plain": [
       "   hidden_size  n_layers  chunk_len  batch_size  learning_rate  total_time\n",
       "0          100         1        200         100           0.01   13.794756\n",
       "1          100         2        200         100           0.01   19.587149\n",
       "2          100         3        200         100           0.01   25.266205\n",
       "3          100         4        200         100           0.01   29.848044\n",
       "4           50         2        200         100           0.01   17.202240"
      ]
     },
     "execution_count": 20,
     "metadata": {},
     "output_type": "execute_result"
    }
   ],
   "source": [
    "import pandas as pd\n",
    "import numpy as np\n",
    "import os\n",
    "\n",
    "error_folder = \"error_logs\"\n",
    "\n",
    "training_logs_df = pd.read_csv(\"training_log.csv\")\n",
    "training_logs_df.head()"
   ]
  },
  {
   "cell_type": "code",
   "execution_count": 26,
   "metadata": {},
   "outputs": [
    {
     "data": {
      "text/html": [
       "<div>\n",
       "<style scoped>\n",
       "    .dataframe tbody tr th:only-of-type {\n",
       "        vertical-align: middle;\n",
       "    }\n",
       "\n",
       "    .dataframe tbody tr th {\n",
       "        vertical-align: top;\n",
       "    }\n",
       "\n",
       "    .dataframe thead th {\n",
       "        text-align: right;\n",
       "    }\n",
       "</style>\n",
       "<table border=\"1\" class=\"dataframe\">\n",
       "  <thead>\n",
       "    <tr style=\"text-align: right;\">\n",
       "      <th></th>\n",
       "      <th>n_layers_1.0.1</th>\n",
       "      <th>n_layers_2.0.3</th>\n",
       "      <th>n_layers_3.0.1</th>\n",
       "      <th>n_layers_4.0</th>\n",
       "    </tr>\n",
       "  </thead>\n",
       "  <tbody>\n",
       "    <tr>\n",
       "      <th>0</th>\n",
       "      <td>4.594716</td>\n",
       "      <td>4.616068</td>\n",
       "      <td>4.577375</td>\n",
       "      <td>4.594498</td>\n",
       "    </tr>\n",
       "    <tr>\n",
       "      <th>1</th>\n",
       "      <td>4.131975</td>\n",
       "      <td>4.285933</td>\n",
       "      <td>4.121820</td>\n",
       "      <td>4.318007</td>\n",
       "    </tr>\n",
       "    <tr>\n",
       "      <th>2</th>\n",
       "      <td>3.541044</td>\n",
       "      <td>3.508349</td>\n",
       "      <td>3.503939</td>\n",
       "      <td>3.562821</td>\n",
       "    </tr>\n",
       "    <tr>\n",
       "      <th>3</th>\n",
       "      <td>3.244559</td>\n",
       "      <td>3.391503</td>\n",
       "      <td>3.451056</td>\n",
       "      <td>3.386948</td>\n",
       "    </tr>\n",
       "    <tr>\n",
       "      <th>4</th>\n",
       "      <td>3.124013</td>\n",
       "      <td>3.321879</td>\n",
       "      <td>3.402113</td>\n",
       "      <td>3.390319</td>\n",
       "    </tr>\n",
       "  </tbody>\n",
       "</table>\n",
       "</div>"
      ],
      "text/plain": [
       "   n_layers_1.0.1  n_layers_2.0.3  n_layers_3.0.1  n_layers_4.0\n",
       "0        4.594716        4.616068        4.577375      4.594498\n",
       "1        4.131975        4.285933        4.121820      4.318007\n",
       "2        3.541044        3.508349        3.503939      3.562821\n",
       "3        3.244559        3.391503        3.451056      3.386948\n",
       "4        3.124013        3.321879        3.402113      3.390319"
      ]
     },
     "execution_count": 26,
     "metadata": {},
     "output_type": "execute_result"
    }
   ],
   "source": [
    "n_layers_df = training_logs_df.iloc[0:4]\n",
    "n_layers_df\n",
    "\n",
    "\n",
    "file_path = os.path.join(error_folder, 'n_layers_error.csv')\n",
    "n_layers_error_df = pd.read_csv(file_path)\n",
    "n_layers_error_df = n_layers_error_df.iloc[:, -4:]\n",
    "\n",
    "n_layers_error_df.head()"
   ]
  },
  {
   "cell_type": "code",
   "execution_count": 27,
   "metadata": {},
   "outputs": [
    {
     "data": {
      "text/html": [
       "<div>\n",
       "<style scoped>\n",
       "    .dataframe tbody tr th:only-of-type {\n",
       "        vertical-align: middle;\n",
       "    }\n",
       "\n",
       "    .dataframe tbody tr th {\n",
       "        vertical-align: top;\n",
       "    }\n",
       "\n",
       "    .dataframe thead th {\n",
       "        text-align: right;\n",
       "    }\n",
       "</style>\n",
       "<table border=\"1\" class=\"dataframe\">\n",
       "  <thead>\n",
       "    <tr style=\"text-align: right;\">\n",
       "      <th></th>\n",
       "      <th>hidden_size_50.0</th>\n",
       "      <th>hidden_size_100.0</th>\n",
       "      <th>hidden_size_150.0</th>\n",
       "      <th>hidden_size_200.0</th>\n",
       "    </tr>\n",
       "  </thead>\n",
       "  <tbody>\n",
       "    <tr>\n",
       "      <th>0</th>\n",
       "      <td>4.635020</td>\n",
       "      <td>4.646158</td>\n",
       "      <td>4.598611</td>\n",
       "      <td>4.619996</td>\n",
       "    </tr>\n",
       "    <tr>\n",
       "      <th>1</th>\n",
       "      <td>4.448235</td>\n",
       "      <td>4.331917</td>\n",
       "      <td>4.087820</td>\n",
       "      <td>4.095363</td>\n",
       "    </tr>\n",
       "    <tr>\n",
       "      <th>2</th>\n",
       "      <td>4.120433</td>\n",
       "      <td>3.596009</td>\n",
       "      <td>3.376950</td>\n",
       "      <td>3.433874</td>\n",
       "    </tr>\n",
       "    <tr>\n",
       "      <th>3</th>\n",
       "      <td>3.742163</td>\n",
       "      <td>3.404391</td>\n",
       "      <td>3.295761</td>\n",
       "      <td>3.377978</td>\n",
       "    </tr>\n",
       "    <tr>\n",
       "      <th>4</th>\n",
       "      <td>3.555518</td>\n",
       "      <td>3.312491</td>\n",
       "      <td>3.201804</td>\n",
       "      <td>3.289710</td>\n",
       "    </tr>\n",
       "  </tbody>\n",
       "</table>\n",
       "</div>"
      ],
      "text/plain": [
       "   hidden_size_50.0  hidden_size_100.0  hidden_size_150.0  hidden_size_200.0\n",
       "0          4.635020           4.646158           4.598611           4.619996\n",
       "1          4.448235           4.331917           4.087820           4.095363\n",
       "2          4.120433           3.596009           3.376950           3.433874\n",
       "3          3.742163           3.404391           3.295761           3.377978\n",
       "4          3.555518           3.312491           3.201804           3.289710"
      ]
     },
     "execution_count": 27,
     "metadata": {},
     "output_type": "execute_result"
    }
   ],
   "source": [
    "hidden_size_df = training_logs_df[4:8]\n",
    "hidden_size_df\n",
    "\n",
    "\n",
    "file_path = os.path.join(error_folder, \"hidden_size_error.csv\")\n",
    "hidden_size_error_df = pd.read_csv(file_path)\n",
    "hidden_size_error_df.head()\n",
    "\n",
    "hidden_size_error_df.head()\n"
   ]
  },
  {
   "cell_type": "code",
   "execution_count": 28,
   "metadata": {},
   "outputs": [
    {
     "data": {
      "text/html": [
       "<div>\n",
       "<style scoped>\n",
       "    .dataframe tbody tr th:only-of-type {\n",
       "        vertical-align: middle;\n",
       "    }\n",
       "\n",
       "    .dataframe tbody tr th {\n",
       "        vertical-align: top;\n",
       "    }\n",
       "\n",
       "    .dataframe thead th {\n",
       "        text-align: right;\n",
       "    }\n",
       "</style>\n",
       "<table border=\"1\" class=\"dataframe\">\n",
       "  <thead>\n",
       "    <tr style=\"text-align: right;\">\n",
       "      <th></th>\n",
       "      <th>learning_rate_0.005</th>\n",
       "      <th>learning_rate_0.01</th>\n",
       "      <th>learning_rate_0.05</th>\n",
       "      <th>learning_rate_0.1</th>\n",
       "    </tr>\n",
       "  </thead>\n",
       "  <tbody>\n",
       "    <tr>\n",
       "      <th>0</th>\n",
       "      <td>4.603248</td>\n",
       "      <td>4.628269</td>\n",
       "      <td>4.586019</td>\n",
       "      <td>4.607857</td>\n",
       "    </tr>\n",
       "    <tr>\n",
       "      <th>1</th>\n",
       "      <td>4.397726</td>\n",
       "      <td>4.238810</td>\n",
       "      <td>3.533667</td>\n",
       "      <td>4.991151</td>\n",
       "    </tr>\n",
       "    <tr>\n",
       "      <th>2</th>\n",
       "      <td>4.017657</td>\n",
       "      <td>3.555500</td>\n",
       "      <td>4.501600</td>\n",
       "      <td>4.286364</td>\n",
       "    </tr>\n",
       "    <tr>\n",
       "      <th>3</th>\n",
       "      <td>3.606163</td>\n",
       "      <td>3.363197</td>\n",
       "      <td>5.301148</td>\n",
       "      <td>6.452079</td>\n",
       "    </tr>\n",
       "    <tr>\n",
       "      <th>4</th>\n",
       "      <td>3.412242</td>\n",
       "      <td>3.307393</td>\n",
       "      <td>4.576630</td>\n",
       "      <td>5.709892</td>\n",
       "    </tr>\n",
       "  </tbody>\n",
       "</table>\n",
       "</div>"
      ],
      "text/plain": [
       "   learning_rate_0.005  learning_rate_0.01  learning_rate_0.05  \\\n",
       "0             4.603248            4.628269            4.586019   \n",
       "1             4.397726            4.238810            3.533667   \n",
       "2             4.017657            3.555500            4.501600   \n",
       "3             3.606163            3.363197            5.301148   \n",
       "4             3.412242            3.307393            4.576630   \n",
       "\n",
       "   learning_rate_0.1  \n",
       "0           4.607857  \n",
       "1           4.991151  \n",
       "2           4.286364  \n",
       "3           6.452079  \n",
       "4           5.709892  "
      ]
     },
     "execution_count": 28,
     "metadata": {},
     "output_type": "execute_result"
    }
   ],
   "source": [
    "learning_rate_df = training_logs_df[8:12]\n",
    "learning_rate_df\n",
    "\n",
    "\n",
    "file_path = os.path.join(error_folder, \"learning_rate_error.csv\")\n",
    "learning_rate_error_df = pd.read_csv(file_path)\n",
    "learning_rate_error_df.head()"
   ]
  },
  {
   "cell_type": "code",
   "execution_count": 29,
   "metadata": {},
   "outputs": [
    {
     "data": {
      "text/html": [
       "<div>\n",
       "<style scoped>\n",
       "    .dataframe tbody tr th:only-of-type {\n",
       "        vertical-align: middle;\n",
       "    }\n",
       "\n",
       "    .dataframe tbody tr th {\n",
       "        vertical-align: top;\n",
       "    }\n",
       "\n",
       "    .dataframe thead th {\n",
       "        text-align: right;\n",
       "    }\n",
       "</style>\n",
       "<table border=\"1\" class=\"dataframe\">\n",
       "  <thead>\n",
       "    <tr style=\"text-align: right;\">\n",
       "      <th></th>\n",
       "      <th>chunk_len_50.0</th>\n",
       "      <th>chunk_len_100.0</th>\n",
       "      <th>chunk_len_200.0</th>\n",
       "      <th>chunk_len_300.0</th>\n",
       "    </tr>\n",
       "  </thead>\n",
       "  <tbody>\n",
       "    <tr>\n",
       "      <th>0</th>\n",
       "      <td>4.576896</td>\n",
       "      <td>4.588681</td>\n",
       "      <td>4.605290</td>\n",
       "      <td>4.581246</td>\n",
       "    </tr>\n",
       "    <tr>\n",
       "      <th>1</th>\n",
       "      <td>4.116444</td>\n",
       "      <td>4.091294</td>\n",
       "      <td>4.142288</td>\n",
       "      <td>4.129242</td>\n",
       "    </tr>\n",
       "    <tr>\n",
       "      <th>2</th>\n",
       "      <td>3.547527</td>\n",
       "      <td>3.478839</td>\n",
       "      <td>3.488814</td>\n",
       "      <td>3.494462</td>\n",
       "    </tr>\n",
       "    <tr>\n",
       "      <th>3</th>\n",
       "      <td>3.416769</td>\n",
       "      <td>3.351240</td>\n",
       "      <td>3.373145</td>\n",
       "      <td>3.324378</td>\n",
       "    </tr>\n",
       "    <tr>\n",
       "      <th>4</th>\n",
       "      <td>3.254470</td>\n",
       "      <td>3.293051</td>\n",
       "      <td>3.318704</td>\n",
       "      <td>3.266181</td>\n",
       "    </tr>\n",
       "  </tbody>\n",
       "</table>\n",
       "</div>"
      ],
      "text/plain": [
       "   chunk_len_50.0  chunk_len_100.0  chunk_len_200.0  chunk_len_300.0\n",
       "0        4.576896         4.588681         4.605290         4.581246\n",
       "1        4.116444         4.091294         4.142288         4.129242\n",
       "2        3.547527         3.478839         3.488814         3.494462\n",
       "3        3.416769         3.351240         3.373145         3.324378\n",
       "4        3.254470         3.293051         3.318704         3.266181"
      ]
     },
     "execution_count": 29,
     "metadata": {},
     "output_type": "execute_result"
    }
   ],
   "source": [
    "chunk_len_df = training_logs_df[12:16]\n",
    "chunk_len_df\n",
    "\n",
    "file_path = os.path.join(error_folder, \"chunk_len_error.csv\")\n",
    "chunk_len_error_df = pd.read_csv(file_path)\n",
    "chunk_len_error_df.head()"
   ]
  },
  {
   "cell_type": "code",
   "execution_count": 92,
   "metadata": {},
   "outputs": [],
   "source": [
    "# Plotting the error logs for each hyperparameter\n",
    "import matplotlib.pyplot as plt\n",
    "\n",
    "def plot_training_time(df, title, x, y, x_label, num_ticks=10):\n",
    "    df.plot(kind='bar', x=x, y=y, title=title, legend=True)\n",
    "    plt.xlabel(x_label)\n",
    "    plt.ylabel('Training time (minutes)')\n",
    "    plt.xticks(rotation=45, ha='right')\n",
    "    \n",
    "    folder = 'imgs'\n",
    "    plt.savefig(os.path.join(folder, title + '.png'))\n",
    "    plt.show()\n",
    "\n",
    "    \n",
    "def moving_average(data, window_size=10):\n",
    "    return data.rolling(window=window_size, min_periods=1).mean()\n",
    "\n",
    "    \n",
    "def plot_training_error(df, title):\n",
    "    \n",
    "    smoothed_df = df.copy()\n",
    "    for col in df.columns[1:]:\n",
    "        smoothed_df[col] = moving_average(df[col], window_size=10)\n",
    "    \n",
    "    smoothed_df.plot(kind='line', title=title, legend=True)\n",
    "    plt.xlabel('Epoch')\n",
    "    plt.ylabel('Training error')\n",
    "    \n",
    "    folder = 'imgs'\n",
    "    plt.savefig(os.path.join(folder, title + '.png'))\n",
    "    plt.show()\n",
    "    \n",
    "    # df.plot(kind='line', title=title, legend=True)\n",
    "    # plt.xlabel(x_label)\n",
    "    # plt.ylabel('Training error')\n",
    "    # plt.show()\n",
    "    "
   ]
  },
  {
   "cell_type": "code",
   "execution_count": 93,
   "metadata": {},
   "outputs": [
    {
     "data": {
      "image/png": "[encoded data removed]",
      "text/plain": [
       "<Figure size 640x480 with 1 Axes>"
      ]
     },
     "metadata": {},
     "output_type": "display_data"
    },
    {
     "data": {
      "image/png": "[encoded data removed]",
      "text/plain": [
       "<Figure size 640x480 with 1 Axes>"
      ]
     },
     "metadata": {},
     "output_type": "display_data"
    }
   ],
   "source": [
    "# Plotting the error logs for n_layers\n",
    "plot_training_time(n_layers_df, \"Training_Log_n_layers\", x='n_layers' ,y=\"total_time\", x_label=\"Number of Layers\")\n",
    "\n",
    "plot_training_error(n_layers_error_df, \"Training_Error_n_layers\")"
   ]
  },
  {
   "cell_type": "code",
   "execution_count": 94,
   "metadata": {},
   "outputs": [
    {
     "data": {
      "image/png": "[encoded data removed]",
      "text/plain": [
       "<Figure size 640x480 with 1 Axes>"
      ]
     },
     "metadata": {},
     "output_type": "display_data"
    },
    {
     "data": {
      "image/png": "[encoded data removed]",
      "text/plain": [
       "<Figure size 640x480 with 1 Axes>"
      ]
     },
     "metadata": {},
     "output_type": "display_data"
    }
   ],
   "source": [
    "plot_training_time(hidden_size_df, \"Training_Log_hidden_size\", x='hidden_size' ,y=\"total_time\", x_label=\"Hidden Size\")\n",
    "\n",
    "plot_training_error(hidden_size_error_df, \"Training_Error_hidden_size\")"
   ]
  },
  {
   "cell_type": "code",
   "execution_count": 95,
   "metadata": {},
   "outputs": [
    {
     "data": {
      "image/png": "[encoded data removed]",
      "text/plain": [
       "<Figure size 640x480 with 1 Axes>"
      ]
     },
     "metadata": {},
     "output_type": "display_data"
    },
    {
     "data": {
      "image/png": "[encoded data removed]",
      "text/plain": [
       "<Figure size 640x480 with 1 Axes>"
      ]
     },
     "metadata": {},
     "output_type": "display_data"
    }
   ],
   "source": [
    "plot_training_time(learning_rate_df, \"Training_Log_learning_rate\", x='learning_rate' ,y=\"total_time\", x_label=\"Learning Rate\")\n",
    "\n",
    "plot_training_error(learning_rate_error_df, \"Training_Error_learning_rate\")"
   ]
  },
  {
   "cell_type": "code",
   "execution_count": 96,
   "metadata": {},
   "outputs": [
    {
     "data": {
      "image/png": "[encoded data removed]",
      "text/plain": [
       "<Figure size 640x480 with 1 Axes>"
      ]
     },
     "metadata": {},
     "output_type": "display_data"
    },
    {
     "data": {
      "image/png": "[encoded data removed]",
      "text/plain": [
       "<Figure size 640x480 with 1 Axes>"
      ]
     },
     "metadata": {},
     "output_type": "display_data"
    }
   ],
   "source": [
    "plot_training_time(chunk_len_df, \"Training_Log_chunk_len\", x='chunk_len' ,y=\"total_time\", x_label=\"Chunk Length\")\n",
    "\n",
    "plot_training_error(chunk_len_error_df, \"Training_Error_chunk_len\")\n",
    "\n"
   ]
  },
  {
   "cell_type": "code",
   "execution_count": null,
   "metadata": {},
   "outputs": [],
   "source": []
  }
 ],
 "metadata": {
  "kernelspec": {
   "display_name": "Python 3",
   "language": "python",
   "name": "python3"
  },
  "language_info": {
   "codemirror_mode": {
    "name": "ipython",
    "version": 3
   },
   "file_extension": ".py",
   "mimetype": "text/x-python",
   "name": "python",
   "nbconvert_exporter": "python",
   "pygments_lexer": "ipython3",
   "version": "3.11.9"
  }
 },
 "nbformat": 4,
 "nbformat_minor": 2
}
